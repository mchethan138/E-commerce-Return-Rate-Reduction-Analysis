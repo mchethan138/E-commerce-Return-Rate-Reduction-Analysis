{
 "cells": [
  {
   "cell_type": "markdown",
   "id": "2934809c-270d-4bc3-b911-4a9a6b63915b",
   "metadata": {},
   "source": [
    "# IMPORTING PACKAGES & READING .csv FILES"
   ]
  },
  {
   "cell_type": "code",
   "execution_count": 2,
   "id": "c0ecf53a-eec0-435c-99de-bb2b26ab8dfa",
   "metadata": {},
   "outputs": [],
   "source": [
    "import pandas as pd\n",
    "import numpy as np\n",
    "import sqlite3"
   ]
  },
  {
   "cell_type": "markdown",
   "id": "ab77cd95-f223-4706-9e3c-2b20e6b63765",
   "metadata": {},
   "source": [
    "Supplier data was missing so created a supplier.csv file. Assigning sup_id randomly to products table"
   ]
  },
  {
   "cell_type": "code",
   "execution_count": 4,
   "id": "5920499a-df70-4242-a3e2-0dc107c26a65",
   "metadata": {},
   "outputs": [],
   "source": [
    "# Load products.csv\n",
    "products_df = pd.read_csv(\"products_wo_suppliers.csv\")\n",
    "    \n",
    "#Load supplier IDs\n",
    "suppliers_df = pd.read_csv(\"suppliers.csv\")\n",
    "sup_ids = suppliers_df[\"Sup_id\"].tolist()\n",
    "    \n",
    "# Assign random Sup_id\n",
    "products_df[\"Sup_id\"] = np.random.choice(sup_ids, size=len(products_df))\n",
    "    \n",
    "# Reorder columns to place Sup_id after ord_id\n",
    "ord_index = products_df.columns.get_loc(\"or_id\") + 1\n",
    "columns = list(products_df.columns)\n",
    "\n",
    "# Move 'Sup_id' to the right place\n",
    "columns.insert(ord_index, columns.pop(columns.index(\"Sup_id\")))\n",
    "products_df = products_df[columns]\n",
    "\n",
    "\n",
    "products_df.to_csv(\"products.csv\", index=False)\n"
   ]
  },
  {
   "cell_type": "markdown",
   "id": "b8817cf4-b592-4a74-ab8f-dbd133b8a0b0",
   "metadata": {},
   "source": [
    "Loading files"
   ]
  },
  {
   "cell_type": "code",
   "execution_count": 6,
   "id": "05583c6a-ca96-4658-b75b-80e51574d38c",
   "metadata": {},
   "outputs": [],
   "source": [
    "cu=pd.read_csv('customers.csv')\n",
    "odr=pd.read_csv('orders.csv')\n",
    "prd=pd.read_csv('products.csv')\n",
    "rt_rf=pd.read_csv('returns_refund.csv')\n",
    "dv=pd.read_csv('delievry.csv')\n",
    "rt=pd.read_csv('ratings.csv')\n",
    "tra=pd.read_csv('transactions.csv')\n",
    "sup=pd.read_csv('suppliers.csv')"
   ]
  },
  {
   "cell_type": "code",
   "execution_count": 7,
   "id": "7f98d927-351a-451a-90d2-e43fea907f82",
   "metadata": {},
   "outputs": [
    {
     "data": {
      "text/html": [
       "<div>\n",
       "<style scoped>\n",
       "    .dataframe tbody tr th:only-of-type {\n",
       "        vertical-align: middle;\n",
       "    }\n",
       "\n",
       "    .dataframe tbody tr th {\n",
       "        vertical-align: top;\n",
       "    }\n",
       "\n",
       "    .dataframe thead th {\n",
       "        text-align: right;\n",
       "    }\n",
       "</style>\n",
       "<table border=\"1\" class=\"dataframe\">\n",
       "  <thead>\n",
       "    <tr style=\"text-align: right;\">\n",
       "      <th></th>\n",
       "      <th>C_ID</th>\n",
       "      <th>C_Name</th>\n",
       "      <th>Gender</th>\n",
       "      <th>Age</th>\n",
       "      <th>City</th>\n",
       "      <th>State</th>\n",
       "      <th>Street Address</th>\n",
       "      <th>Mobile</th>\n",
       "    </tr>\n",
       "  </thead>\n",
       "  <tbody>\n",
       "    <tr>\n",
       "      <th>0</th>\n",
       "      <td>CS_11000001</td>\n",
       "      <td>Manbir Lala</td>\n",
       "      <td>Male</td>\n",
       "      <td>67</td>\n",
       "      <td>Delhi</td>\n",
       "      <td>Delhi</td>\n",
       "      <td>Park Ave, 163 , Delhi , Delhi - 529675</td>\n",
       "      <td>9607971039</td>\n",
       "    </tr>\n",
       "    <tr>\n",
       "      <th>1</th>\n",
       "      <td>CS_11000002</td>\n",
       "      <td>Radhika More</td>\n",
       "      <td>Female</td>\n",
       "      <td>51</td>\n",
       "      <td>Pune</td>\n",
       "      <td>Maharashtra</td>\n",
       "      <td>Elm St, 960 , Pune , Maharashtra - 328062</td>\n",
       "      <td>9109249091</td>\n",
       "    </tr>\n",
       "    <tr>\n",
       "      <th>2</th>\n",
       "      <td>CS_11000003</td>\n",
       "      <td>Faqid Halder</td>\n",
       "      <td>Female</td>\n",
       "      <td>57</td>\n",
       "      <td>Bengaluru</td>\n",
       "      <td>Karnataka</td>\n",
       "      <td>Maple St, 71 , Bengaluru , Karnataka - 574209</td>\n",
       "      <td>9129509047</td>\n",
       "    </tr>\n",
       "    <tr>\n",
       "      <th>3</th>\n",
       "      <td>CS_11000004</td>\n",
       "      <td>Chandresh Dugar</td>\n",
       "      <td>Female</td>\n",
       "      <td>26</td>\n",
       "      <td>Thane</td>\n",
       "      <td>Maharashtra</td>\n",
       "      <td>2nd St, 557 , Thane , Maharashtra - 329555</td>\n",
       "      <td>9351639395</td>\n",
       "    </tr>\n",
       "    <tr>\n",
       "      <th>4</th>\n",
       "      <td>CS_11000005</td>\n",
       "      <td>Logan Soni</td>\n",
       "      <td>Male</td>\n",
       "      <td>24</td>\n",
       "      <td>Ghaziabad</td>\n",
       "      <td>Uttar Pradesh</td>\n",
       "      <td>Pine St, 758 , Ghaziabad , Uttar Pradesh - 119526</td>\n",
       "      <td>9445754174</td>\n",
       "    </tr>\n",
       "  </tbody>\n",
       "</table>\n",
       "</div>"
      ],
      "text/plain": [
       "          C_ID           C_Name  Gender  Age       City          State  \\\n",
       "0  CS_11000001      Manbir Lala    Male   67      Delhi          Delhi   \n",
       "1  CS_11000002     Radhika More  Female   51       Pune    Maharashtra   \n",
       "2  CS_11000003     Faqid Halder  Female   57  Bengaluru      Karnataka   \n",
       "3  CS_11000004  Chandresh Dugar  Female   26      Thane    Maharashtra   \n",
       "4  CS_11000005       Logan Soni    Male   24  Ghaziabad  Uttar Pradesh   \n",
       "\n",
       "                                      Street Address      Mobile  \n",
       "0             Park Ave, 163 , Delhi , Delhi - 529675  9607971039  \n",
       "1          Elm St, 960 , Pune , Maharashtra - 328062  9109249091  \n",
       "2      Maple St, 71 , Bengaluru , Karnataka - 574209  9129509047  \n",
       "3         2nd St, 557 , Thane , Maharashtra - 329555  9351639395  \n",
       "4  Pine St, 758 , Ghaziabad , Uttar Pradesh - 119526  9445754174  "
      ]
     },
     "execution_count": 7,
     "metadata": {},
     "output_type": "execute_result"
    }
   ],
   "source": [
    "cu.head()"
   ]
  },
  {
   "cell_type": "code",
   "execution_count": 8,
   "id": "a26fc825-d578-45f0-b589-8b4c893d7f16",
   "metadata": {},
   "outputs": [
    {
     "name": "stdout",
     "output_type": "stream",
     "text": [
      "Customers: (10184, 8)\n",
      "Orders: (10000, 8)\n",
      "Products: (10000, 7)\n",
      "Returns_Refund: (2000, 5)\n",
      "Delivery: (325, 3)\n",
      "Ratings: (10000, 4)\n",
      "Transactions: (10000, 4)\n",
      "Suppliers: (30, 2)\n"
     ]
    }
   ],
   "source": [
    "print('Customers:',cu.shape)\n",
    "print('Orders:',odr.shape)\n",
    "print('Products:',prd.shape)\n",
    "print('Returns_Refund:',rt_rf.shape)\n",
    "print('Delivery:',dv.shape)\n",
    "print('Ratings:',rt.shape)\n",
    "print('Transactions:',tra.shape)\n",
    "print('Suppliers:',sup.shape)\n"
   ]
  },
  {
   "cell_type": "code",
   "execution_count": 9,
   "id": "d997bea8-d182-472a-a461-a6482b3f2b96",
   "metadata": {},
   "outputs": [
    {
     "name": "stdout",
     "output_type": "stream",
     "text": [
      "<class 'pandas.core.frame.DataFrame'>\n",
      "RangeIndex: 10184 entries, 0 to 10183\n",
      "Data columns (total 8 columns):\n",
      " #   Column          Non-Null Count  Dtype \n",
      "---  ------          --------------  ----- \n",
      " 0   C_ID            10184 non-null  object\n",
      " 1   C_Name          10184 non-null  object\n",
      " 2   Gender          10184 non-null  object\n",
      " 3   Age             10184 non-null  int64 \n",
      " 4   City            10184 non-null  object\n",
      " 5   State           10184 non-null  object\n",
      " 6   Street Address  10184 non-null  object\n",
      " 7   Mobile          10184 non-null  int64 \n",
      "dtypes: int64(2), object(6)\n",
      "memory usage: 636.6+ KB\n",
      "<class 'pandas.core.frame.DataFrame'>\n",
      "RangeIndex: 10000 entries, 0 to 9999\n",
      "Data columns (total 8 columns):\n",
      " #   Column      Non-Null Count  Dtype \n",
      "---  ------      --------------  ----- \n",
      " 0   Or_ID       10000 non-null  object\n",
      " 1   C_ID        10000 non-null  object\n",
      " 2   P_ID        10000 non-null  object\n",
      " 3   Order_Date  10000 non-null  object\n",
      " 4   Order_Time  10000 non-null  object\n",
      " 5   Qty         10000 non-null  int64 \n",
      " 6   Coupon      4989 non-null   object\n",
      " 7   DP_ID       10000 non-null  object\n",
      "dtypes: int64(1), object(7)\n",
      "memory usage: 625.1+ KB\n",
      "<class 'pandas.core.frame.DataFrame'>\n",
      "RangeIndex: 10000 entries, 0 to 9999\n",
      "Data columns (total 7 columns):\n",
      " #   Column    Non-Null Count  Dtype  \n",
      "---  ------    --------------  -----  \n",
      " 0   p_id      10000 non-null  object \n",
      " 1   or_id     10000 non-null  object \n",
      " 2   Sup_id    10000 non-null  object \n",
      " 3   pname     9986 non-null   object \n",
      " 4   category  10000 non-null  object \n",
      " 5   specs1    10000 non-null  object \n",
      " 6   price     10000 non-null  float64\n",
      "dtypes: float64(1), object(6)\n",
      "memory usage: 547.0+ KB\n",
      "<class 'pandas.core.frame.DataFrame'>\n",
      "RangeIndex: 2000 entries, 0 to 1999\n",
      "Data columns (total 5 columns):\n",
      " #   Column  Non-Null Count  Dtype \n",
      "---  ------  --------------  ----- \n",
      " 0   RT_ID   2000 non-null   object\n",
      " 1   Or_ID   2000 non-null   object\n",
      " 2   Reason  2000 non-null   object\n",
      " 3   status  2000 non-null   object\n",
      " 4   Date    2000 non-null   object\n",
      "dtypes: object(5)\n",
      "memory usage: 78.3+ KB\n",
      "<class 'pandas.core.frame.DataFrame'>\n",
      "RangeIndex: 325 entries, 0 to 324\n",
      "Data columns (total 3 columns):\n",
      " #   Column      Non-Null Count  Dtype  \n",
      "---  ------      --------------  -----  \n",
      " 0   DP_ID       325 non-null    object \n",
      " 1   DP_Name     325 non-null    object \n",
      " 2   DP_Ratings  303 non-null    float64\n",
      "dtypes: float64(1), object(2)\n",
      "memory usage: 7.7+ KB\n",
      "<class 'pandas.core.frame.DataFrame'>\n",
      "RangeIndex: 10000 entries, 0 to 9999\n",
      "Data columns (total 4 columns):\n",
      " #   Column                   Non-Null Count  Dtype  \n",
      "---  ------                   --------------  -----  \n",
      " 0   R_ID                     10000 non-null  object \n",
      " 1   Or_ID                    10000 non-null  object \n",
      " 2   Prod_Rating              9978 non-null   float64\n",
      " 3   Delivery_Service_Rating  9971 non-null   float64\n",
      "dtypes: float64(2), object(2)\n",
      "memory usage: 312.6+ KB\n",
      "<class 'pandas.core.frame.DataFrame'>\n",
      "RangeIndex: 10000 entries, 0 to 9999\n",
      "Data columns (total 4 columns):\n",
      " #   Column            Non-Null Count  Dtype \n",
      "---  ------            --------------  ----- \n",
      " 0   Tr_ID             10000 non-null  object\n",
      " 1   Or_ID             10000 non-null  object\n",
      " 2   Transaction_Mode  9967 non-null   object\n",
      " 3   Tran_Status       10000 non-null  object\n",
      "dtypes: object(4)\n",
      "memory usage: 312.6+ KB\n",
      "<class 'pandas.core.frame.DataFrame'>\n",
      "RangeIndex: 30 entries, 0 to 29\n",
      "Data columns (total 2 columns):\n",
      " #   Column    Non-Null Count  Dtype \n",
      "---  ------    --------------  ----- \n",
      " 0   Sup_id    30 non-null     object\n",
      " 1   Sup_name  30 non-null     object\n",
      "dtypes: object(2)\n",
      "memory usage: 612.0+ bytes\n"
     ]
    },
    {
     "data": {
      "text/plain": [
       "(None, None, None, None, None, None, None, None)"
      ]
     },
     "execution_count": 9,
     "metadata": {},
     "output_type": "execute_result"
    }
   ],
   "source": [
    "cu.info(),odr.info(),prd.info(),rt_rf.info(),dv.info(),rt.info(),tra.info(),sup.info()"
   ]
  },
  {
   "cell_type": "markdown",
   "id": "189e67a3-9ec3-4f21-9f85-23ca005d930b",
   "metadata": {},
   "source": [
    "# Converting data into lowercase"
   ]
  },
  {
   "cell_type": "code",
   "execution_count": 11,
   "id": "25e7382a-8681-4979-a5ba-c8146a6f8896",
   "metadata": {},
   "outputs": [],
   "source": [
    "def to_lowercase(df):\n",
    "    df.columns = df.columns.str.lower()  # Column names to lowercase\n",
    "    for col in df.select_dtypes(include='object').columns:\n",
    "        df[col] = df[col].astype(str).str.lower()  # String values to lowercase\n",
    "    return df"
   ]
  },
  {
   "cell_type": "code",
   "execution_count": 12,
   "id": "c950a62e-3f86-4733-9f44-6aa2f81f0908",
   "metadata": {},
   "outputs": [],
   "source": [
    "# Apply lowercase function\n",
    "customers = to_lowercase(cu)\n",
    "orders = to_lowercase(odr)\n",
    "products = to_lowercase(prd)\n",
    "returns_refund = to_lowercase(rt_rf)\n",
    "delivery = to_lowercase(dv)\n",
    "ratings = to_lowercase(rt)\n",
    "transactions = to_lowercase(tra)\n",
    "suppliers = to_lowercase(sup)"
   ]
  },
  {
   "cell_type": "code",
   "execution_count": 13,
   "id": "02b39ca7-1df4-4763-a720-e38415104107",
   "metadata": {},
   "outputs": [
    {
     "name": "stdout",
     "output_type": "stream",
     "text": [
      "<class 'pandas.core.frame.DataFrame'>\n",
      "RangeIndex: 10184 entries, 0 to 10183\n",
      "Data columns (total 8 columns):\n",
      " #   Column          Non-Null Count  Dtype \n",
      "---  ------          --------------  ----- \n",
      " 0   c_id            10184 non-null  object\n",
      " 1   c_name          10184 non-null  object\n",
      " 2   gender          10184 non-null  object\n",
      " 3   age             10184 non-null  int64 \n",
      " 4   city            10184 non-null  object\n",
      " 5   state           10184 non-null  object\n",
      " 6   street address  10184 non-null  object\n",
      " 7   mobile          10184 non-null  int64 \n",
      "dtypes: int64(2), object(6)\n",
      "memory usage: 636.6+ KB\n",
      "customers: None           c_id           c_name  gender  age       city          state  \\\n",
      "0  cs_11000001      manbir lala    male   67      delhi          delhi   \n",
      "1  cs_11000002     radhika more  female   51       pune    maharashtra   \n",
      "2  cs_11000003     faqid halder  female   57  bengaluru      karnataka   \n",
      "3  cs_11000004  chandresh dugar  female   26      thane    maharashtra   \n",
      "4  cs_11000005       logan soni    male   24  ghaziabad  uttar pradesh   \n",
      "\n",
      "                                      street address      mobile  \n",
      "0             park ave, 163 , delhi , delhi - 529675  9607971039  \n",
      "1          elm st, 960 , pune , maharashtra - 328062  9109249091  \n",
      "2      maple st, 71 , bengaluru , karnataka - 574209  9129509047  \n",
      "3         2nd st, 557 , thane , maharashtra - 329555  9351639395  \n",
      "4  pine st, 758 , ghaziabad , uttar pradesh - 119526  9445754174  \n"
     ]
    }
   ],
   "source": [
    "#checking for converte to lowercase\n",
    "print('customers:',cu.info(),cu.head())"
   ]
  },
  {
   "cell_type": "code",
   "execution_count": 14,
   "id": "4447b833-5308-402f-9361-0480fb4ccafe",
   "metadata": {},
   "outputs": [
    {
     "name": "stdout",
     "output_type": "stream",
     "text": [
      "<class 'pandas.core.frame.DataFrame'>\n",
      "RangeIndex: 325 entries, 0 to 324\n",
      "Data columns (total 3 columns):\n",
      " #   Column      Non-Null Count  Dtype  \n",
      "---  ------      --------------  -----  \n",
      " 0   dp_id       325 non-null    object \n",
      " 1   dp_name     325 non-null    object \n",
      " 2   dp_ratings  303 non-null    float64\n",
      "dtypes: float64(1), object(2)\n",
      "memory usage: 7.7+ KB\n",
      "delievry: None           c_id           c_name  gender  age       city          state  \\\n",
      "0  cs_11000001      manbir lala    male   67      delhi          delhi   \n",
      "1  cs_11000002     radhika more  female   51       pune    maharashtra   \n",
      "2  cs_11000003     faqid halder  female   57  bengaluru      karnataka   \n",
      "3  cs_11000004  chandresh dugar  female   26      thane    maharashtra   \n",
      "4  cs_11000005       logan soni    male   24  ghaziabad  uttar pradesh   \n",
      "\n",
      "                                      street address      mobile  \n",
      "0             park ave, 163 , delhi , delhi - 529675  9607971039  \n",
      "1          elm st, 960 , pune , maharashtra - 328062  9109249091  \n",
      "2      maple st, 71 , bengaluru , karnataka - 574209  9129509047  \n",
      "3         2nd st, 557 , thane , maharashtra - 329555  9351639395  \n",
      "4  pine st, 758 , ghaziabad , uttar pradesh - 119526  9445754174  \n"
     ]
    }
   ],
   "source": [
    "print('delievry:',dv.info(),cu.head())"
   ]
  },
  {
   "cell_type": "code",
   "execution_count": 15,
   "id": "63e7e2ed-08af-4241-b4c0-0eb19ff3bdfa",
   "metadata": {},
   "outputs": [
    {
     "name": "stdout",
     "output_type": "stream",
     "text": [
      "<class 'pandas.core.frame.DataFrame'>\n",
      "RangeIndex: 30 entries, 0 to 29\n",
      "Data columns (total 2 columns):\n",
      " #   Column    Non-Null Count  Dtype \n",
      "---  ------    --------------  ----- \n",
      " 0   sup_id    30 non-null     object\n",
      " 1   sup_name  30 non-null     object\n",
      "dtypes: object(2)\n",
      "memory usage: 612.0+ bytes\n",
      "suppliers\n",
      ": None     sup_id               sup_name\n",
      "0  sup_001   global ecom supplies\n",
      "1  sup_002     primelogix traders\n",
      "2  sup_003  digicart distributors\n",
      "3  sup_004        urbanmarket co.\n",
      "4  sup_005      ezyshop solutions\n"
     ]
    }
   ],
   "source": [
    "print('suppliers\\n:',sup.info(),sup.head())"
   ]
  },
  {
   "cell_type": "markdown",
   "id": "da7c4694-54e3-4680-adea-f5cb5b62e641",
   "metadata": {},
   "source": [
    "# Cleaning Data"
   ]
  },
  {
   "cell_type": "markdown",
   "id": "c1af7147-b7c0-41eb-a0a7-c5e7e1a36078",
   "metadata": {},
   "source": [
    "Removing duplicate columns"
   ]
  },
  {
   "cell_type": "code",
   "execution_count": 18,
   "id": "3b613eb4-4437-40ba-a611-63e1353b6878",
   "metadata": {},
   "outputs": [],
   "source": [
    "#Removing duplicate columns\n",
    "def remove_duplicate_columns(df):\n",
    "    df.drop_duplicates(inplace=True)\n",
    "    return df"
   ]
  },
  {
   "cell_type": "code",
   "execution_count": 19,
   "id": "633df611-a443-499b-8b93-509a39b704e8",
   "metadata": {},
   "outputs": [],
   "source": [
    "# Apply remove_duplicate_columns function\n",
    "customers = remove_duplicate_columns(cu)\n",
    "orders = remove_duplicate_columns(odr)\n",
    "products = remove_duplicate_columns(prd)\n",
    "returns_refund = remove_duplicate_columns(rt_rf)\n",
    "delivery = remove_duplicate_columns(dv)\n",
    "ratings = remove_duplicate_columns(rt)\n",
    "transactions = remove_duplicate_columns(tra)\n",
    "suppliers = remove_duplicate_columns(sup)"
   ]
  },
  {
   "cell_type": "code",
   "execution_count": 20,
   "id": "cabda954-8351-4cad-8657-e6d9a65e1e95",
   "metadata": {},
   "outputs": [
    {
     "name": "stdout",
     "output_type": "stream",
     "text": [
      "Customers duplicate: 0\n",
      "orders duplicate: 0\n",
      "products duplicate: 0\n",
      "returns_refund duplicate: 0\n",
      "delivery duplicate: 0\n",
      "ratings duplicate: 0\n",
      "transactions duplicate: 0\n",
      "suppliers duplicate: 0\n"
     ]
    }
   ],
   "source": [
    "#checking for duplicate values after cleaning\n",
    "print('Customers duplicate:',cu.duplicated().sum())\n",
    "print('orders duplicate:',odr.duplicated().sum())\n",
    "print('products duplicate:',prd.duplicated().sum())\n",
    "print('returns_refund duplicate:',rt_rf.duplicated().sum())\n",
    "print('delivery duplicate:',dv.duplicated().sum())\n",
    "print('ratings duplicate:',rt.duplicated().sum())\n",
    "print('transactions duplicate:',tra.duplicated().sum())\n",
    "print('suppliers duplicate:',sup.duplicated().sum())"
   ]
  },
  {
   "cell_type": "markdown",
   "id": "fecd0ef3-c38c-4bbe-aa39-d2be8dbd8dd9",
   "metadata": {},
   "source": [
    "# Checking for null values and correcting formats"
   ]
  },
  {
   "cell_type": "markdown",
   "id": "81edb5d1-6b60-4a0a-bef1-c2a97510d1ed",
   "metadata": {},
   "source": [
    "Customer Table"
   ]
  },
  {
   "cell_type": "code",
   "execution_count": 23,
   "id": "bee943f9-2eb3-416e-a7ee-0415354768b7",
   "metadata": {},
   "outputs": [
    {
     "name": "stdout",
     "output_type": "stream",
     "text": [
      "<class 'pandas.core.frame.DataFrame'>\n",
      "Index: 10000 entries, 0 to 9999\n",
      "Data columns (total 8 columns):\n",
      " #   Column          Non-Null Count  Dtype \n",
      "---  ------          --------------  ----- \n",
      " 0   c_id            10000 non-null  object\n",
      " 1   c_name          10000 non-null  object\n",
      " 2   gender          10000 non-null  object\n",
      " 3   age             10000 non-null  int64 \n",
      " 4   city            10000 non-null  object\n",
      " 5   state           10000 non-null  object\n",
      " 6   street address  10000 non-null  object\n",
      " 7   mobile          10000 non-null  int64 \n",
      "dtypes: int64(2), object(6)\n",
      "memory usage: 703.1+ KB\n",
      "None\n",
      "Customers null:\n",
      " c_id              0\n",
      "c_name            0\n",
      "gender            0\n",
      "age               0\n",
      "city              0\n",
      "state             0\n",
      "street address    0\n",
      "mobile            0\n",
      "dtype: int64\n"
     ]
    }
   ],
   "source": [
    "print(cu.info())\n",
    "print('Customers null:\\n',cu.isnull().sum())"
   ]
  },
  {
   "cell_type": "markdown",
   "id": "5734a59c-ba14-4b48-8cfb-d3513b10ac3b",
   "metadata": {},
   "source": [
    "Orders Table"
   ]
  },
  {
   "cell_type": "code",
   "execution_count": 25,
   "id": "120e7ae9-6189-4a04-a0ea-cb0482a170d6",
   "metadata": {},
   "outputs": [
    {
     "name": "stdout",
     "output_type": "stream",
     "text": [
      "<class 'pandas.core.frame.DataFrame'>\n",
      "RangeIndex: 10000 entries, 0 to 9999\n",
      "Data columns (total 8 columns):\n",
      " #   Column      Non-Null Count  Dtype \n",
      "---  ------      --------------  ----- \n",
      " 0   or_id       10000 non-null  object\n",
      " 1   c_id        10000 non-null  object\n",
      " 2   p_id        10000 non-null  object\n",
      " 3   order_date  10000 non-null  object\n",
      " 4   order_time  10000 non-null  object\n",
      " 5   qty         10000 non-null  int64 \n",
      " 6   coupon      10000 non-null  object\n",
      " 7   dp_id       10000 non-null  object\n",
      "dtypes: int64(1), object(7)\n",
      "memory usage: 625.1+ KB\n",
      "None\n",
      "orders null:\n",
      " or_id         0\n",
      "c_id          0\n",
      "p_id          0\n",
      "order_date    0\n",
      "order_time    0\n",
      "qty           0\n",
      "coupon        0\n",
      "dp_id         0\n",
      "dtype: int64\n"
     ]
    }
   ],
   "source": [
    "print(odr.info())\n",
    "print('orders null:\\n',odr.isnull().sum())"
   ]
  },
  {
   "cell_type": "code",
   "execution_count": 26,
   "id": "f9bf9fdb-e157-4cef-8050-ca67d15dc147",
   "metadata": {},
   "outputs": [
    {
     "name": "stdout",
     "output_type": "stream",
     "text": [
      "<class 'pandas.core.frame.DataFrame'>\n",
      "RangeIndex: 10000 entries, 0 to 9999\n",
      "Data columns (total 10 columns):\n",
      " #   Column          Non-Null Count  Dtype         \n",
      "---  ------          --------------  -----         \n",
      " 0   or_id           10000 non-null  object        \n",
      " 1   c_id            10000 non-null  object        \n",
      " 2   p_id            10000 non-null  object        \n",
      " 3   order_date      10000 non-null  object        \n",
      " 4   order_time      10000 non-null  object        \n",
      " 5   qty             10000 non-null  int64         \n",
      " 6   coupon          10000 non-null  object        \n",
      " 7   dp_id           10000 non-null  object        \n",
      " 8   order_datetime  10000 non-null  datetime64[ns]\n",
      " 9   month           10000 non-null  object        \n",
      "dtypes: datetime64[ns](1), int64(1), object(8)\n",
      "memory usage: 781.4+ KB\n"
     ]
    }
   ],
   "source": [
    "# Convert to string (in case they are not)\n",
    "odr.order_date = odr.order_date.astype(str)\n",
    "odr.order_time = odr.order_time.astype(str)\n",
    "\n",
    "# Combine and convert to datetime\n",
    "odr['order_datetime'] = pd.to_datetime(odr.order_date + ' ' + odr.order_time, format='mixed')\n",
    "odr['month'] = odr['order_datetime'].dt.strftime('%b-%Y')\n",
    "odr.info()"
   ]
  },
  {
   "cell_type": "markdown",
   "id": "c9b5e3b6-0673-47f5-8ba9-b47939443dac",
   "metadata": {},
   "source": [
    "Products Table"
   ]
  },
  {
   "cell_type": "code",
   "execution_count": 28,
   "id": "d36f87d4-d8cb-445f-a751-25150d919ea3",
   "metadata": {},
   "outputs": [
    {
     "name": "stdout",
     "output_type": "stream",
     "text": [
      "<class 'pandas.core.frame.DataFrame'>\n",
      "RangeIndex: 10000 entries, 0 to 9999\n",
      "Data columns (total 7 columns):\n",
      " #   Column    Non-Null Count  Dtype  \n",
      "---  ------    --------------  -----  \n",
      " 0   p_id      10000 non-null  object \n",
      " 1   or_id     10000 non-null  object \n",
      " 2   sup_id    10000 non-null  object \n",
      " 3   pname     10000 non-null  object \n",
      " 4   category  10000 non-null  object \n",
      " 5   specs1    10000 non-null  object \n",
      " 6   price     10000 non-null  float64\n",
      "dtypes: float64(1), object(6)\n",
      "memory usage: 547.0+ KB\n",
      "None\n",
      "orders null:\n",
      " p_id        0\n",
      "or_id       0\n",
      "sup_id      0\n",
      "pname       0\n",
      "category    0\n",
      "specs1      0\n",
      "price       0\n",
      "dtype: int64\n"
     ]
    }
   ],
   "source": [
    "print(prd.info())\n",
    "print('orders null:\\n',prd.isnull().sum())"
   ]
  },
  {
   "cell_type": "markdown",
   "id": "f9b55a03-9a8a-4be1-93c3-ef064047d12a",
   "metadata": {},
   "source": [
    "Returns Refund Table"
   ]
  },
  {
   "cell_type": "code",
   "execution_count": 30,
   "id": "e1d2962e-f4f8-45ad-be5b-2992b567fe57",
   "metadata": {},
   "outputs": [
    {
     "name": "stdout",
     "output_type": "stream",
     "text": [
      "<class 'pandas.core.frame.DataFrame'>\n",
      "RangeIndex: 2000 entries, 0 to 1999\n",
      "Data columns (total 5 columns):\n",
      " #   Column  Non-Null Count  Dtype \n",
      "---  ------  --------------  ----- \n",
      " 0   rt_id   2000 non-null   object\n",
      " 1   or_id   2000 non-null   object\n",
      " 2   reason  2000 non-null   object\n",
      " 3   status  2000 non-null   object\n",
      " 4   date    2000 non-null   object\n",
      "dtypes: object(5)\n",
      "memory usage: 78.3+ KB\n",
      "None\n",
      "returns_refund null:\n",
      " rt_id     0\n",
      "or_id     0\n",
      "reason    0\n",
      "status    0\n",
      "date      0\n",
      "dtype: int64\n"
     ]
    },
    {
     "data": {
      "text/html": [
       "<div>\n",
       "<style scoped>\n",
       "    .dataframe tbody tr th:only-of-type {\n",
       "        vertical-align: middle;\n",
       "    }\n",
       "\n",
       "    .dataframe tbody tr th {\n",
       "        vertical-align: top;\n",
       "    }\n",
       "\n",
       "    .dataframe thead th {\n",
       "        text-align: right;\n",
       "    }\n",
       "</style>\n",
       "<table border=\"1\" class=\"dataframe\">\n",
       "  <thead>\n",
       "    <tr style=\"text-align: right;\">\n",
       "      <th></th>\n",
       "      <th>rt_id</th>\n",
       "      <th>or_id</th>\n",
       "      <th>reason</th>\n",
       "      <th>status</th>\n",
       "      <th>date</th>\n",
       "    </tr>\n",
       "  </thead>\n",
       "  <tbody>\n",
       "    <tr>\n",
       "      <th>0</th>\n",
       "      <td>rr_301000001</td>\n",
       "      <td>or_31004141</td>\n",
       "      <td>wrong item shipped</td>\n",
       "      <td>return</td>\n",
       "      <td>08-04-2023</td>\n",
       "    </tr>\n",
       "    <tr>\n",
       "      <th>1</th>\n",
       "      <td>rr_301000002</td>\n",
       "      <td>or_31008145</td>\n",
       "      <td>late delivery</td>\n",
       "      <td>refund</td>\n",
       "      <td>13-05-2024</td>\n",
       "    </tr>\n",
       "    <tr>\n",
       "      <th>2</th>\n",
       "      <td>rr_301000003</td>\n",
       "      <td>or_31005212</td>\n",
       "      <td>wrong item shipped</td>\n",
       "      <td>return</td>\n",
       "      <td>01-11-2023</td>\n",
       "    </tr>\n",
       "    <tr>\n",
       "      <th>3</th>\n",
       "      <td>rr_301000004</td>\n",
       "      <td>or_31006318</td>\n",
       "      <td>late delivery</td>\n",
       "      <td>refund</td>\n",
       "      <td>16-05-2024</td>\n",
       "    </tr>\n",
       "    <tr>\n",
       "      <th>4</th>\n",
       "      <td>rr_301000005</td>\n",
       "      <td>or_31007423</td>\n",
       "      <td>defective product</td>\n",
       "      <td>return</td>\n",
       "      <td>10-06-2023</td>\n",
       "    </tr>\n",
       "  </tbody>\n",
       "</table>\n",
       "</div>"
      ],
      "text/plain": [
       "          rt_id        or_id              reason  status        date\n",
       "0  rr_301000001  or_31004141  wrong item shipped  return  08-04-2023\n",
       "1  rr_301000002  or_31008145       late delivery  refund  13-05-2024\n",
       "2  rr_301000003  or_31005212  wrong item shipped  return  01-11-2023\n",
       "3  rr_301000004  or_31006318       late delivery  refund  16-05-2024\n",
       "4  rr_301000005  or_31007423   defective product  return  10-06-2023"
      ]
     },
     "execution_count": 30,
     "metadata": {},
     "output_type": "execute_result"
    }
   ],
   "source": [
    "print(rt_rf.info())\n",
    "print('returns_refund null:\\n',rt_rf.isnull().sum())\n",
    "rt_rf.head()"
   ]
  },
  {
   "cell_type": "code",
   "execution_count": 31,
   "id": "0aabee1c-e348-41fb-be10-9284c7472288",
   "metadata": {},
   "outputs": [
    {
     "name": "stdout",
     "output_type": "stream",
     "text": [
      "<class 'pandas.core.frame.DataFrame'>\n",
      "RangeIndex: 2000 entries, 0 to 1999\n",
      "Data columns (total 5 columns):\n",
      " #   Column  Non-Null Count  Dtype         \n",
      "---  ------  --------------  -----         \n",
      " 0   rt_id   2000 non-null   object        \n",
      " 1   or_id   2000 non-null   object        \n",
      " 2   reason  2000 non-null   object        \n",
      " 3   status  2000 non-null   object        \n",
      " 4   date    2000 non-null   datetime64[ns]\n",
      "dtypes: datetime64[ns](1), object(4)\n",
      "memory usage: 78.3+ KB\n"
     ]
    }
   ],
   "source": [
    "rt_rf.date = pd.to_datetime(rt_rf.date,format='mixed')\n",
    "rt_rf.info()\n"
   ]
  },
  {
   "cell_type": "markdown",
   "id": "fb92b7f9-76d6-4922-a69a-d72f6131fe2a",
   "metadata": {},
   "source": [
    "Delivery Table"
   ]
  },
  {
   "cell_type": "code",
   "execution_count": 33,
   "id": "122dad71-7795-4a55-a5b9-b9b7672e41d9",
   "metadata": {},
   "outputs": [
    {
     "name": "stdout",
     "output_type": "stream",
     "text": [
      "<class 'pandas.core.frame.DataFrame'>\n",
      "Index: 300 entries, 0 to 299\n",
      "Data columns (total 3 columns):\n",
      " #   Column      Non-Null Count  Dtype  \n",
      "---  ------      --------------  -----  \n",
      " 0   dp_id       300 non-null    object \n",
      " 1   dp_name     300 non-null    object \n",
      " 2   dp_ratings  280 non-null    float64\n",
      "dtypes: float64(1), object(2)\n",
      "memory usage: 9.4+ KB\n",
      "None\n",
      "delivery null:\n",
      " dp_id          0\n",
      "dp_name        0\n",
      "dp_ratings    20\n",
      "dtype: int64\n"
     ]
    }
   ],
   "source": [
    "print(dv.info())\n",
    "print('delivery null:\\n',dv.isnull().sum())"
   ]
  },
  {
   "cell_type": "code",
   "execution_count": 34,
   "id": "ce552d82-040d-4e71-9778-ccd849079fb9",
   "metadata": {},
   "outputs": [
    {
     "name": "stdout",
     "output_type": "stream",
     "text": [
      "delivery null:\n",
      " dp_id         0\n",
      "dp_name       0\n",
      "dp_ratings    0\n",
      "dtype: int64\n"
     ]
    }
   ],
   "source": [
    "dv.dp_ratings = dv.dp_ratings.fillna(0)\n",
    "print('delivery null:\\n',dv.isnull().sum())"
   ]
  },
  {
   "cell_type": "markdown",
   "id": "cae32e2b-6d58-417d-9749-a9d765e945aa",
   "metadata": {},
   "source": [
    "Ratings Table"
   ]
  },
  {
   "cell_type": "code",
   "execution_count": 36,
   "id": "273ba0c3-d9ae-419b-a856-ee5afef61633",
   "metadata": {},
   "outputs": [
    {
     "name": "stdout",
     "output_type": "stream",
     "text": [
      "<class 'pandas.core.frame.DataFrame'>\n",
      "RangeIndex: 10000 entries, 0 to 9999\n",
      "Data columns (total 4 columns):\n",
      " #   Column                   Non-Null Count  Dtype  \n",
      "---  ------                   --------------  -----  \n",
      " 0   r_id                     10000 non-null  object \n",
      " 1   or_id                    10000 non-null  object \n",
      " 2   prod_rating              9978 non-null   float64\n",
      " 3   delivery_service_rating  9971 non-null   float64\n",
      "dtypes: float64(2), object(2)\n",
      "memory usage: 312.6+ KB\n",
      "None\n",
      "Ratings null:\n",
      " r_id                        0\n",
      "or_id                       0\n",
      "prod_rating                22\n",
      "delivery_service_rating    29\n",
      "dtype: int64\n"
     ]
    }
   ],
   "source": [
    "print(rt.info())\n",
    "print('Ratings null:\\n',rt.isnull().sum())"
   ]
  },
  {
   "cell_type": "code",
   "execution_count": 37,
   "id": "e718e48e-d771-416c-85c6-155b817f7f2f",
   "metadata": {},
   "outputs": [
    {
     "name": "stdout",
     "output_type": "stream",
     "text": [
      "Ratings null:\n",
      " r_id                       0\n",
      "or_id                      0\n",
      "prod_rating                0\n",
      "delivery_service_rating    0\n",
      "dtype: int64\n"
     ]
    }
   ],
   "source": [
    "rt.prod_rating = rt.prod_rating.fillna(0)\n",
    "rt.delivery_service_rating = rt.delivery_service_rating.fillna(0)\n",
    "print('Ratings null:\\n',rt.isnull().sum())"
   ]
  },
  {
   "cell_type": "markdown",
   "id": "278d3b05-d945-4add-99e7-6c9750c95b01",
   "metadata": {},
   "source": [
    "Transactions Table"
   ]
  },
  {
   "cell_type": "code",
   "execution_count": 39,
   "id": "ef530684-5343-4d4a-b72b-9c1865e92229",
   "metadata": {},
   "outputs": [
    {
     "name": "stdout",
     "output_type": "stream",
     "text": [
      "<class 'pandas.core.frame.DataFrame'>\n",
      "RangeIndex: 10000 entries, 0 to 9999\n",
      "Data columns (total 4 columns):\n",
      " #   Column            Non-Null Count  Dtype \n",
      "---  ------            --------------  ----- \n",
      " 0   tr_id             10000 non-null  object\n",
      " 1   or_id             10000 non-null  object\n",
      " 2   transaction_mode  10000 non-null  object\n",
      " 3   tran_status       10000 non-null  object\n",
      "dtypes: object(4)\n",
      "memory usage: 312.6+ KB\n",
      "None\n",
      "transactions null:\n",
      " tr_id               0\n",
      "or_id               0\n",
      "transaction_mode    0\n",
      "tran_status         0\n",
      "dtype: int64\n"
     ]
    }
   ],
   "source": [
    "print(tra.info())\n",
    "print('transactions null:\\n',tra.isnull().sum())"
   ]
  },
  {
   "cell_type": "markdown",
   "id": "74909ae3-b244-490e-a48e-602e0ec9d293",
   "metadata": {},
   "source": [
    "Supplier Table"
   ]
  },
  {
   "cell_type": "code",
   "execution_count": 41,
   "id": "1e7b5245-9eef-4c8d-9dbe-66030357ee1c",
   "metadata": {},
   "outputs": [
    {
     "name": "stdout",
     "output_type": "stream",
     "text": [
      "<class 'pandas.core.frame.DataFrame'>\n",
      "RangeIndex: 30 entries, 0 to 29\n",
      "Data columns (total 2 columns):\n",
      " #   Column    Non-Null Count  Dtype \n",
      "---  ------    --------------  ----- \n",
      " 0   sup_id    30 non-null     object\n",
      " 1   sup_name  30 non-null     object\n",
      "dtypes: object(2)\n",
      "memory usage: 612.0+ bytes\n",
      "None\n",
      "suppliers null:\n",
      " sup_id      0\n",
      "sup_name    0\n",
      "dtype: int64\n"
     ]
    }
   ],
   "source": [
    "print(sup.info())\n",
    "print('suppliers null:\\n',sup.isnull().sum())"
   ]
  },
  {
   "cell_type": "code",
   "execution_count": 42,
   "id": "13b2964f-9b81-47e1-beb7-b9d501ea71f3",
   "metadata": {},
   "outputs": [],
   "source": [
    "cu.to_csv('customers_cleaned.csv',index=False)\n",
    "odr.to_csv('orders_cleaned.csv',index=False)\n",
    "prd.to_csv('products_cleaned.csv',index=False)\n",
    "rt_rf.to_csv('returns_refund_cleaned.csv',index=False)\n",
    "dv.to_csv('delievry_cleaned.csv',index=False)\n",
    "rt.to_csv('ratings_cleaned.csv',index=False)\n",
    "tra.to_csv('transactions_cleaned.csv',index=False)\n",
    "sup.to_csv('supplires_cleaned.csv',index=False)"
   ]
  },
  {
   "cell_type": "code",
   "execution_count": null,
   "id": "2b066ede-b6cf-46a8-b9cf-2d08a434f526",
   "metadata": {},
   "outputs": [],
   "source": []
  }
 ],
 "metadata": {
  "kernelspec": {
   "display_name": "Python [conda env:base] *",
   "language": "python",
   "name": "conda-base-py"
  },
  "language_info": {
   "codemirror_mode": {
    "name": "ipython",
    "version": 3
   },
   "file_extension": ".py",
   "mimetype": "text/x-python",
   "name": "python",
   "nbconvert_exporter": "python",
   "pygments_lexer": "ipython3",
   "version": "3.12.7"
  }
 },
 "nbformat": 4,
 "nbformat_minor": 5
}
